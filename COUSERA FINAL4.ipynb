{
 "cells": [
  {
   "cell_type": "markdown",
   "metadata": {},
   "source": [
    "# 1)INTRODUCTION"
   ]
  },
  {
   "cell_type": "markdown",
   "metadata": {},
   "source": [
    "## 1.1) PROBLEM"
   ]
  },
  {
   "cell_type": "markdown",
   "metadata": {},
   "source": [
    "Nowadays many people want to start a new business or company of their own in order to benifit themselves from it. Starting a new business or a new company is not an easy task as it requires the whole understandings of the consumer needs , requirements , import or export of materials etc. When any new foundation is set up the major problem which the person face is to start from where or which can be the perfect LOCATION where their business(in our case retail shop) can be situated ,so as to be beneficial for both the consumer(as a buyer of the product) and the retailer(owner of the shop).The selection of retail storelications is one of the most significant decisions in retail marketing, because in store based retailling, good locations are key elements for attracting customers to the outlets and sometimes can even compensate for a mediocre retail stratergy mix. A good location therefore can lead to strong competitive advantages , because location is considered one of the retail marketing mix that is \"unique\" and thus cannot be imitated by competitors."
   ]
  },
  {
   "cell_type": "markdown",
   "metadata": {},
   "source": [
    "## 1.2) BACKGROUND"
   ]
  },
  {
   "cell_type": "markdown",
   "metadata": {},
   "source": [
    "Retail location is considered to be one of the most important element in retail marketing stratergy , because it is a long term decision assosiated with a long term capital commitment. Location decisions are very complex, due to the large number of factors that have to be considered , and costs associated with , for example, the opening of new stores, can be very high. Site selection is therefore a ~long term~ decision that implies long term capital commitment. Once a retail site has been chosen, there is only little flexibility , because this decision cannot change easily without high losses. Because of its fixed nature , location cannot be changed in short term , contrary to other elements of the retail marketing mix such as prices, customer service, the product assortment or advertising. These latter factors can be altered if the environment (eg. consumer behaviour , competition) changes."
   ]
  },
  {
   "cell_type": "markdown",
   "metadata": {},
   "source": [
    "# 2)DATA"
   ]
  },
  {
   "cell_type": "markdown",
   "metadata": {},
   "source": [
    "## 2.1) DATA SOURCE AND CLEANING"
   ]
  },
  {
   "cell_type": "markdown",
   "metadata": {},
   "source": [
    "Firstly , I will find all the neighborhoods of the city in which the person wants to start his/her retail business(This data can easily be retrive from google website). After that I will also find all the required latitudes and longitudes of the neighborhoods of our selected city. When all this data will be in a dataframe then it can be processed into Fousquare Location Data to exactly locate our neighborhood, it can also locate all the venues of our neighborhood which can later be easily visualize, to form clusters etc . which can help us to lead to a conclusion."
   ]
  },
  {
   "cell_type": "markdown",
   "metadata": {},
   "source": [
    "# 3)EXPLORATORY DATA ANALYSIS"
   ]
  },
  {
   "cell_type": "markdown",
   "metadata": {},
   "source": [
    "Foursquare location data is very useful for locating different localities of a country, state , city or an area. It contains all the required information about all the neighborhoods of a place and also of all the venues those neighborhoods have nearby. As Foursquare Location Data gets updated everyday unlike other location data servers , so it provides us with more proper result as compare to other location data servers. As our dataframe will contain the Borough's neighborhood and it latitude and longitude data which when accessed into Foursquare Location Data can help us locate all the venues and also the neighborhood which has the highest number of venues around it . The locality which has the most number of venues must atrract more crowd and that place could be considered as one of the best place to open a retail store , as we need to find the best place to open a retail store and benefit our customer(who came to us for helping him in locating the best location for his business ).\n",
    "\n"
   ]
  },
  {
   "cell_type": "markdown",
   "metadata": {},
   "source": [
    "![title](https://upload.wikimedia.org/wikipedia/commons/1/1a/5_Boroughs_Labels_New_York_City_Map_Julius_Schorzman.png)"
   ]
  },
  {
   "cell_type": "markdown",
   "metadata": {},
   "source": [
    "THE above shown image shows us the different 'Borough' of New York city and in our project we will be dealing with Bronx(4) , to find the best neighborhood in Bronx to open a retail shop/business."
   ]
  },
  {
   "cell_type": "markdown",
   "metadata": {},
   "source": [
    "# 4)RESULT"
   ]
  },
  {
   "cell_type": "markdown",
   "metadata": {},
   "source": [
    "By Using the data and analysing it we have found this table:"
   ]
  },
  {
   "cell_type": "markdown",
   "metadata": {},
   "source": [
    "Neighborhood     |    No. of Venues\n",
    "---------------  | -----------------\n",
    "Belmont          |     96\n",
    "Fordham          |     92\n",
    "Kingsbridge      |     72\n",
    "Phelam Bay       |     41\n",
    "Belford Park     |     38\n",
    "Packchester      |     38\n",
    "Concource Village  |    36\n",
    "Kingsbridge Heights |   35 \n",
    "Westchester Square  |   32\n",
    "Norwood          |      32"
   ]
  },
  {
   "cell_type": "markdown",
   "metadata": {},
   "source": [
    "This above data frame shows us the top 10 venues of Bronx's neighborhood.\n",
    "From the above data we can say that if our client wants to open a retail shop/business then Belmont is the best place to start from in Borough ,Bronx of New York City.Fordham and Kingsbridge are also good choice to start retail business."
   ]
  },
  {
   "cell_type": "markdown",
   "metadata": {},
   "source": [
    "# 5)DISCUSSION"
   ]
  },
  {
   "cell_type": "markdown",
   "metadata": {},
   "source": [
    "By using different libraries of our jupyter notebook and also by the use of Foursquare Location data we were able to locate different venues of different neighborhoods of the Broughs of the New York City .\n",
    "Foursquare Location data helped us in locating the exact location as it the best location servers due to its everyday update system because of which Foursquare Location Data gets updated everday ulike other location data servers which gets updated every week or every month.\n",
    "So, Foursquare helps us in getting the acquired result exactly keeping in resource of the current status of all the places accross the globe.\n",
    "To locate the best location to open a retail shop we have analysed the number of venues different neighborhood has, more the number of venues more will be the probabilty or chances for retail busines to grow.\n",
    "More venues will inturn attract more crowd and will be beneficial for the growth of the business."
   ]
  },
  {
   "cell_type": "markdown",
   "metadata": {},
   "source": [
    "# 6)CONCLUSION"
   ]
  },
  {
   "cell_type": "markdown",
   "metadata": {},
   "source": [
    "In the conclusion I would just like to say that Foursquare Location Data is the best Location server for anyone who wants to analyze different locations around the globe.\n",
    "Venues plays an important role as more the venues , better the location for retail business to start as location is a thing in business which cannot be changed ,So its selection must be appropriate for the business to grow ,a bad location if cheaper also will never help the owner to expand his/her business.\n",
    "So, I would recommend that Belmont , Fordham and Kingsbridge are the best location to locate a retail shop."
   ]
  },
  {
   "cell_type": "code",
   "execution_count": null,
   "metadata": {},
   "outputs": [],
   "source": []
  }
 ],
 "metadata": {
  "kernelspec": {
   "display_name": "Python 3",
   "language": "python",
   "name": "python3"
  },
  "language_info": {
   "codemirror_mode": {
    "name": "ipython",
    "version": 3
   },
   "file_extension": ".py",
   "mimetype": "text/x-python",
   "name": "python",
   "nbconvert_exporter": "python",
   "pygments_lexer": "ipython3",
   "version": "3.6.5"
  }
 },
 "nbformat": 4,
 "nbformat_minor": 2
}
