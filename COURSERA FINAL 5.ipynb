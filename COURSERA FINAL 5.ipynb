{
 "cells": [
  {
   "cell_type": "markdown",
   "metadata": {},
   "source": [
    "# A. INTRODUCTION"
   ]
  },
  {
   "cell_type": "markdown",
   "metadata": {},
   "source": [
    "## A.1. Description and Discussion of Background"
   ]
  },
  {
   "cell_type": "markdown",
   "metadata": {},
   "source": [
    "Retail\t location\t is\t considered\t to\t be\t one\t of\t the\t most\t important\t elements\t in\t retail\t marketing\n",
    "strategy,\t because\t it\t is\t a\t long-term\t decision,\t associated\t with\t long-term\t capital commitment. The\t\n",
    "selection\tof\tretail\tstore\tlocations\tis\tone\tof the most significant decisions\tin retail marketing, because in\n",
    "store based retailing, good locations are key elements\t for\t attracting\t customers\t to\t the\t outlets\t and\t\n",
    "sometimes\tcan\teven compensate for a mediocre retail strategy mix. A good location therefore can lead\n",
    "to strong competitive advantages, because location is considered one of the elements of the retail\n",
    "marketing mix that is “unique” and thus cannot be imitated by competitors."
   ]
  },
  {
   "cell_type": "markdown",
   "metadata": {},
   "source": [
    " Once a retail site\n",
    "has been chosen,\t there\tis\tonly little\t flexibility,\tbecause\t this\tdecision\tusually\tcannot\tbe changed easily\n",
    "without high losses. Because\tof\tits\tfixed\tnature,\tlocation\tcannot\tbe\tchanged\tin\tthe\tshort\tterm, contrary\t\n",
    "to\tother\telements\tof\tthe\tretail\tmarketing mix\tsuch\tas\tprices,\tcus tomer service, the product assortment\n",
    "or advertising. These latter factors can be\t altered if\t the\t environment\t (e.g.\t consumer\t behaviour,\t\n",
    "competition) changes.\tThe main attention in the context of retail location strategies usually focuses on\n",
    "the opening of new stores. However, location decisions relate to the entire physical\tstructure\tof\tretail\t\n",
    "outlets\t and\t are\t thus\t more\t comprehensive.\t "
   ]
  },
  {
   "cell_type": "markdown",
   "metadata": {},
   "source": [
    "## A.2. Data Description"
   ]
  },
  {
   "cell_type": "markdown",
   "metadata": {},
   "source": [
    "To consider the problem we can list the datas as below:"
   ]
  },
  {
   "cell_type": "markdown",
   "metadata": {},
   "source": [
    "1.) I found the data from Spatial Data Repository of NYU [2]. The .json file has coordinates of the all borough of new york city. I cleaned the data and reduced it to where it is easily notified that which neighborhood lies in which borough with latitudes and longitudes. "
   ]
  },
  {
   "cell_type": "markdown",
   "metadata": {},
   "source": [
    "2.)I used Forsquare API to get the most common venues of given Borough of New York City ."
   ]
  },
  {
   "cell_type": "markdown",
   "metadata": {},
   "source": [
    "3.) I calculate that how many venues does different neighborhoods of diffrent Brough of New york have  ."
   ]
  },
  {
   "cell_type": "markdown",
   "metadata": {},
   "source": [
    "# B. METHODOLOGY"
   ]
  },
  {
   "cell_type": "markdown",
   "metadata": {},
   "source": [
    "As a database, I used GitHub repository in my study. My master data which has the main components Borough, Neighborhood, Latitude and Longitude informations of the city."
   ]
  },
  {
   "cell_type": "markdown",
   "metadata": {},
   "source": [
    "Borough     | Neighborhood |Latitude|Longitude\n",
    " -----------|--------------|--------|----------          \n",
    "Bronx| Wakefield| 40.894705| -73.847201\n",
    "Bronx| Co-op City| 40.874294| -73.829939\n",
    "Bronx| Eastchester| 40.887556| -73.827806\n",
    "Bronx| Fieldston| 40.895437|-73.905643\n",
    "Bronx| Riverdale| 40.890834|-73.912585"
   ]
  },
  {
   "cell_type": "markdown",
   "metadata": {},
   "source": [
    "I used python folium library to visualize geographic details of New york and its boroughs and I created a map of New York with boroughs superimposed on top."
   ]
  },
  {
   "cell_type": "markdown",
   "metadata": {},
   "source": [
    "![title](https://upload.wikimedia.org/wikipedia/commons/1/1a/5_Boroughs_Labels_New_York_City_Map_Julius_Schorzman.png)"
   ]
  },
  {
   "cell_type": "markdown",
   "metadata": {},
   "source": [
    "In summary of this data 52\n",
    "venues were returned by Foursquare. Here is a merged table of boroughs and venues."
   ]
  },
  {
   "cell_type": "markdown",
   "metadata": {},
   "source": [
    "Neighborhood|Neighborhood Latitude|Neighborhood Longitude|Venue|Venue Latitude|Venue Longitude|Venue Category\n",
    "------------|---------------------|----------------------|-----|--------------|---------------|---------------\n",
    "Wakefield|40.894705|-73.847201|Lollipops Gelato|40.894123|-73.845892|Dessert Shop\n",
    "Wakefield|40.894705|-73.847201|Rite Aid|40.896649|-73.844846|Pharmacy\n",
    "Wakefield|40.894705|-73.847201|Cooler Runnings Jamaican Restaurant Inc|40.898276|-73.850381|Caribbean Restaurant\n",
    "Wakefield|40.894705|-73.847201|Shell|40.894187|-73.845862|Gas Station\n",
    "Wakefield|40.894705|-73.847201|Carvel Ice Cream|40.890487|-73.848568|Ice Cream Shop"
   ]
  },
  {
   "cell_type": "markdown",
   "metadata": {},
   "source": [
    "# C. RESULTS"
   ]
  },
  {
   "cell_type": "markdown",
   "metadata": {},
   "source": [
    "By counting the number of venues of Bronx by venue category I got the following table:"
   ]
  },
  {
   "cell_type": "markdown",
   "metadata": {},
   "source": [
    "Neighborhood |Neighborhood Latitude|Neighborhood Longitude|Venue|Venue Latitude|Venue Longitude|Venue Category\n",
    "-------------|---------------------|----------------------|-----|--------------|---------------|---------------\n",
    "Belmont|96|96|96|96|96|96\n",
    "Fordham|92|92|92|92|92|92\n",
    "Kingsbridge|72|72|72|72|72|72\n",
    "Pelham Bay|41|41|41|41|41|41\n",
    "Bedford Park|38|38|38|38|38|38\n",
    "Parkchester|38|38|38|38|38|38\n",
    "Concourse Village|36|36|36|36|36|36\n",
    "Kingsbridge Heights|35|35|35|35|35|35\n",
    "Westchester Square|32|32|32|32|32|32\n",
    "Norwood|32|32|32|32|32|32"
   ]
  },
  {
   "cell_type": "markdown",
   "metadata": {},
   "source": [
    "In the above data frame it is easily notisable that neighborhood Belmont of Borough 'Bronx' has the most number of venues in it.Therefore it is advisable to open a retail store in Belmont. Fordham nd Kingsbridge are also good choice for retail business location."
   ]
  },
  {
   "cell_type": "markdown",
   "metadata": {},
   "source": [
    "# D. DISCUSSION"
   ]
  },
  {
   "cell_type": "markdown",
   "metadata": {},
   "source": [
    "As I mentioned before, NEW YORK is a big city with a high population density in a  area. The total number of measurements and population densities of the 5 districts in total . As there is such a complexity, very different approaches can be tried in clustering and classification studies. Moreover, it is obvious that not every classification method can yield the same high quality results for this metropol."
   ]
  },
  {
   "cell_type": "markdown",
   "metadata": {},
   "source": [
    "It can be said that Foursquare Loctaion Data is the best location server as it helps us getting the better probabily of acquired results about a location."
   ]
  },
  {
   "cell_type": "markdown",
   "metadata": {},
   "source": [
    "We were able to locate all the venues of Bronx by using Foursquare Location Data , and we were also able to know that how many venues does a particular meighborhood have, as Belmont have 96, Fordham have 92 etc."
   ]
  },
  {
   "cell_type": "markdown",
   "metadata": {},
   "source": [
    "More venues in-turn attracts more crowd , So will be an approprite location to start retail business."
   ]
  },
  {
   "cell_type": "markdown",
   "metadata": {},
   "source": [
    "# E. CONCLUSION"
   ]
  },
  {
   "cell_type": "markdown",
   "metadata": {},
   "source": [
    "As a result, people are turning to big cities to start a business or work. For this reason, people can achieve better outcomes through their access to the platforms where such information is provided."
   ]
  },
  {
   "cell_type": "markdown",
   "metadata": {},
   "source": [
    "Not only for investors but also city managers can manage the city more regularly by using similar data analysis types or platforms"
   ]
  },
  {
   "cell_type": "code",
   "execution_count": null,
   "metadata": {},
   "outputs": [],
   "source": []
  }
 ],
 "metadata": {
  "kernelspec": {
   "display_name": "Python 3",
   "language": "python",
   "name": "python3"
  },
  "language_info": {
   "name": ""
  }
 },
 "nbformat": 4,
 "nbformat_minor": 2
}
