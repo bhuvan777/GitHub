{
  "nbformat": 4,
  "nbformat_minor": 0,
  "metadata": {
    "colab": {
      "name": "Machine_Translation.ipynb",
      "provenance": []
    },
    "kernelspec": {
      "name": "python3",
      "display_name": "Python 3"
    }
  },
  "cells": [
    {
      "cell_type": "code",
      "metadata": {
        "id": "AIqbPwIOYIxN",
        "colab_type": "code",
        "colab": {}
      },
      "source": [
        "import string\n",
        "import re\n",
        "from numpy import array, argmax, random, take\n",
        "import pandas as pd\n",
        "from keras.models import Sequential\n",
        "from keras.layers import Dense, LSTM, Embedding, RepeatVector\n",
        "from keras.preprocessing.text import Tokenizer\n",
        "from keras.callbacks import ModelCheckpoint\n",
        "from keras.preprocessing.sequence import pad_sequences\n",
        "from keras.models import load_model\n",
        "from keras import optimizers\n",
        "import matplotlib.pyplot as plt\n",
        "%matplotlib inline\n",
        "pd.set_option('display.max_colwidth', 200)"
      ],
      "execution_count": 1,
      "outputs": []
    },
    {
      "cell_type": "code",
      "metadata": {
        "id": "8_3YMGHJp3_u",
        "colab_type": "code",
        "colab": {}
      },
      "source": [
        "def read_text(filename):\n",
        "  file=open(filename, mode='rt', encoding='utf-8')\n",
        "  text = file.read()\n",
        "  file.close()\n",
        "  return text"
      ],
      "execution_count": 2,
      "outputs": []
    },
    {
      "cell_type": "code",
      "metadata": {
        "id": "7lqAb1AMqVL6",
        "colab_type": "code",
        "colab": {}
      },
      "source": [
        "#split the text into sentences\n",
        "def to_lines(text):\n",
        "  sents = text.strip().split('\\n')\n",
        "  sents =[i.split('\\t') for i in sents]\n",
        "  #print(sents[:2])\n",
        "  return sents"
      ],
      "execution_count": 12,
      "outputs": []
    },
    {
      "cell_type": "code",
      "metadata": {
        "id": "cJ1e_0M8qu4m",
        "colab_type": "code",
        "colab": {}
      },
      "source": [
        "data =read_text(\"deu.txt\")\n",
        "deu_eng=to_lines(data)\n",
        "deu_eng= array(deu_eng)"
      ],
      "execution_count": 19,
      "outputs": []
    },
    {
      "cell_type": "code",
      "metadata": {
        "id": "UvjLIG2Eq8K0",
        "colab_type": "code",
        "colab": {}
      },
      "source": [
        "#To reduce the training time of the model I will be using only 50000 snetence pairs for training\n",
        "deu_eng = deu_eng[:50000,:2]"
      ],
      "execution_count": 20,
      "outputs": []
    },
    {
      "cell_type": "markdown",
      "metadata": {
        "id": "Q-yuPjFKsZ5G",
        "colab_type": "text"
      },
      "source": [
        "TEXT PREPROCESSING \n",
        "\n",
        "The data we work with is more often than not structured so there are certain thing we need to take care of before jumping to model building part"
      ]
    },
    {
      "cell_type": "code",
      "metadata": {
        "id": "bAVZPBnksUT0",
        "colab_type": "code",
        "colab": {
          "base_uri": "https://localhost:8080/",
          "height": 151
        },
        "outputId": "438dbb21-6051-4860-9dca-bf59933c9df2"
      },
      "source": [
        "deu_eng"
      ],
      "execution_count": 21,
      "outputs": [
        {
          "output_type": "execute_result",
          "data": {
            "text/plain": [
              "array([['Go.', 'Geh.'],\n",
              "       ['Hi.', 'Hallo!'],\n",
              "       ['Hi.', 'Grüß Gott!'],\n",
              "       ...,\n",
              "       ['No one encouraged her.', 'Niemand ermutigte sie.'],\n",
              "       ['No one has that right.', 'Niemand hat dieses Recht.'],\n",
              "       ['No one has that right.', 'Dieses Recht hat niemand.']],\n",
              "      dtype='<U537')"
            ]
          },
          "metadata": {
            "tags": []
          },
          "execution_count": 21
        }
      ]
    },
    {
      "cell_type": "code",
      "metadata": {
        "id": "sNlNZXf7s0L_",
        "colab_type": "code",
        "colab": {
          "base_uri": "https://localhost:8080/",
          "height": 151
        },
        "outputId": "6c29345e-da8a-4966-ffa5-9ba0bf025957"
      },
      "source": [
        "# get rid of punctuation marks and also converting the text into lower case\n",
        "deu_eng[:,0] = [s.translate(str.maketrans('', '',string.punctuation)) for s in deu_eng[:,0]]\n",
        "deu_eng[:,1] = [s.translate(str.maketrans('','', string.punctuation)) for s in deu_eng[:,1]]\n",
        "deu_eng"
      ],
      "execution_count": 22,
      "outputs": [
        {
          "output_type": "execute_result",
          "data": {
            "text/plain": [
              "array([['Go', 'Geh'],\n",
              "       ['Hi', 'Hallo'],\n",
              "       ['Hi', 'Grüß Gott'],\n",
              "       ...,\n",
              "       ['No one encouraged her', 'Niemand ermutigte sie'],\n",
              "       ['No one has that right', 'Niemand hat dieses Recht'],\n",
              "       ['No one has that right', 'Dieses Recht hat niemand']],\n",
              "      dtype='<U537')"
            ]
          },
          "metadata": {
            "tags": []
          },
          "execution_count": 22
        }
      ]
    },
    {
      "cell_type": "code",
      "metadata": {
        "id": "f14eIdmitlUe",
        "colab_type": "code",
        "colab": {
          "base_uri": "https://localhost:8080/",
          "height": 151
        },
        "outputId": "59a4431c-298c-4f44-8ca6-e49ad01cba67"
      },
      "source": [
        "for i in range(len(deu_eng)):\n",
        "  deu_eng[i,0] = deu_eng[i,0].lower()\n",
        "  deu_eng[i,1] = deu_eng[i,1].lower()\n",
        "\n",
        "deu_eng  "
      ],
      "execution_count": 23,
      "outputs": [
        {
          "output_type": "execute_result",
          "data": {
            "text/plain": [
              "array([['go', 'geh'],\n",
              "       ['hi', 'hallo'],\n",
              "       ['hi', 'grüß gott'],\n",
              "       ...,\n",
              "       ['no one encouraged her', 'niemand ermutigte sie'],\n",
              "       ['no one has that right', 'niemand hat dieses recht'],\n",
              "       ['no one has that right', 'dieses recht hat niemand']],\n",
              "      dtype='<U537')"
            ]
          },
          "metadata": {
            "tags": []
          },
          "execution_count": 23
        }
      ]
    },
    {
      "cell_type": "markdown",
      "metadata": {
        "id": "jSRzCl2CvlqO",
        "colab_type": "text"
      },
      "source": [
        "TEXT TO SEQUENCE CONVERSION\n",
        "\n",
        "A sequence to sequence model requires that we convert both the input and the output sentences into integer sequences of fixed length .\n"
      ]
    },
    {
      "cell_type": "code",
      "metadata": {
        "id": "72W-5PHDvdpS",
        "colab_type": "code",
        "colab": {
          "base_uri": "https://localhost:8080/",
          "height": 281
        },
        "outputId": "ed263712-ee11-4399-8756-ced5e65327c4"
      },
      "source": [
        "eng_l =[]\n",
        "deu_l = []\n",
        "\n",
        "#populate lists with sentence lengths\n",
        "for i in deu_eng[:,0]:\n",
        "  eng_l.append(len(i.split()))\n",
        "\n",
        "for i in deu_eng[:,1]:\n",
        "  deu_l.append(len(i.split()))\n",
        "\n",
        "length_df=pd.DataFrame({'eng':eng_l, 'deu':deu_l})\n",
        "length_df.hist(bins=30)\n",
        "plt.show()   "
      ],
      "execution_count": 25,
      "outputs": [
        {
          "output_type": "display_data",
          "data": {
            "image/png": "[encoded data removed]",
            "text/plain": [
              "<Figure size 432x288 with 2 Axes>"
            ]
          },
          "metadata": {
            "tags": [],
            "needs_background": "light"
          }
        }
      ]
    },
    {
      "cell_type": "markdown",
      "metadata": {
        "id": "oZqNq2Aqw50z",
        "colab_type": "text"
      },
      "source": [
        "Preparing token for both germn and english language"
      ]
    },
    {
      "cell_type": "code",
      "metadata": {
        "id": "gBP9YXJmws2V",
        "colab_type": "code",
        "colab": {}
      },
      "source": [
        "def tokenization(lines):\n",
        "  tokenizer = Tokenizer()\n",
        "  tokenizer.fit_on_texts(lines)\n",
        "  return tokenizer"
      ],
      "execution_count": 26,
      "outputs": []
    },
    {
      "cell_type": "code",
      "metadata": {
        "id": "1jNHYiUaRXFe",
        "colab_type": "code",
        "colab": {
          "base_uri": "https://localhost:8080/",
          "height": 50
        },
        "outputId": "652a683f-7a92-409f-cf9b-4c2f2436ad71"
      },
      "source": [
        "eng_tokenizer = tokenization(deu_eng[:,0])\n",
        "deu_tokenizer = tokenization(deu_eng[:,1])\n",
        "eng_vocab_size= len(eng_tokenizer.word_index) +1\n",
        "eng_length =8\n",
        "\n",
        "deu_vocab_size = len(deu_tokenizer.word_index)+1\n",
        "deu_length=8\n",
        "print(eng_vocab_size)\n",
        "deu_vocab_size"
      ],
      "execution_count": 29,
      "outputs": [
        {
          "output_type": "stream",
          "text": [
            "6243\n"
          ],
          "name": "stdout"
        },
        {
          "output_type": "execute_result",
          "data": {
            "text/plain": [
              "10329"
            ]
          },
          "metadata": {
            "tags": []
          },
          "execution_count": 29
        }
      ]
    },
    {
      "cell_type": "code",
      "metadata": {
        "id": "BGpN1W7ZSLYE",
        "colab_type": "code",
        "colab": {}
      },
      "source": [
        "# padding to maximize sentence length as mentioned above\n",
        "\n",
        "def encode_sequences(tokenizer, length , lines):\n",
        "  seq= tokenizer.texts_to_sequences(lines)\n",
        "  #pad sequences with 0 value\n",
        "  seq = pad_sequences(seq, maxlen=length , padding='post')\n",
        "  return seq"
      ],
      "execution_count": 36,
      "outputs": []
    },
    {
      "cell_type": "markdown",
      "metadata": {
        "id": "OvjRKpemTiJc",
        "colab_type": "text"
      },
      "source": [
        "Splitting the data into training and testing for evaluation"
      ]
    },
    {
      "cell_type": "code",
      "metadata": {
        "id": "eU8jfmgPTYZO",
        "colab_type": "code",
        "colab": {}
      },
      "source": [
        "from sklearn.model_selection import train_test_split\n",
        "train ,test = train_test_split(deu_eng, test_size=0.2, random_state=12)"
      ],
      "execution_count": 38,
      "outputs": []
    },
    {
      "cell_type": "markdown",
      "metadata": {
        "id": "GXiQdUBNT7Wi",
        "colab_type": "text"
      },
      "source": [
        "It's time to encode the sentences . We will encode German sentences as the input sequences and English sentences as the target sequences. This has to be done for both training and testing datasets"
      ]
    },
    {
      "cell_type": "code",
      "metadata": {
        "id": "6kXL3E6qT1cm",
        "colab_type": "code",
        "colab": {}
      },
      "source": [
        "trainX = encode_sequences(deu_tokenizer, deu_length,train[:,1])\n",
        "trainY= encode_sequences(eng_tokenizer, eng_length , train[:,0])\n",
        "\n",
        "testX = encode_sequences(deu_tokenizer, deu_length, test[:,1])\n",
        "testY = encode_sequences(eng_tokenizer, eng_length\n",
        "                         , test[:,0])\n"
      ],
      "execution_count": 40,
      "outputs": []
    },
    {
      "cell_type": "markdown",
      "metadata": {
        "id": "jAfmR7WUVBtw",
        "colab_type": "text"
      },
      "source": [
        "Now comes the exiting part!\n",
        "\n",
        "We'll start off by defining our Seq2seq model architecture:\n",
        "\n",
        "->For the encoder, we will use an embedding layer and an LSTM layer\n",
        "\n",
        "->For the decoder, we will use another LSTM layer and dense layer."
      ]
    },
    {
      "cell_type": "code",
      "metadata": {
        "id": "QFzMGK-PUy62",
        "colab_type": "code",
        "colab": {}
      },
      "source": [
        "#build NMT model\n",
        "def defnie_model(in_vocab, out_vocab, in_timesteps, out_timesteps, units):\n",
        "  model =Sequential()\n",
        "  model.add(Embedding(in_vocab, units, input_length=in_timesteps, mask_zero=True))\n",
        "  model.add(LSTM(units))\n",
        "  model.add(RepeatVector(out_timesteps))\n",
        "  model.add(LSTM(units, return_sequences=True))\n",
        "  model.add(Dense(out_vocab, activation='softmax'))\n",
        "  return model\n"
      ],
      "execution_count": 41,
      "outputs": []
    },
    {
      "cell_type": "code",
      "metadata": {
        "id": "wBruaWrrXZh3",
        "colab_type": "code",
        "colab": {}
      },
      "source": [
        "model = defnie_model(deu_vocab_size, eng_vocab_size,deu_length , eng_length , 512)"
      ],
      "execution_count": 42,
      "outputs": []
    },
    {
      "cell_type": "code",
      "metadata": {
        "id": "XHhSxoRzXp7C",
        "colab_type": "code",
        "colab": {}
      },
      "source": [
        "rms = optimizers.RMSprop(lr=0.001)\n",
        "model.compile(optimizer=rms, loss='sparse_categorical_crossentropy')\n"
      ],
      "execution_count": 44,
      "outputs": []
    },
    {
      "cell_type": "markdown",
      "metadata": {
        "id": "JG4COBdqYMUB",
        "colab_type": "text"
      },
      "source": [
        "The loss function, this is because the function allows us to use the target sequence as is, instead of the one-hot encoded format. \n",
        "## One hot encoding the target sequences using such as huge vocabulary might consume our system's entire memory.\n"
      ]
    },
    {
      "cell_type": "code",
      "metadata": {
        "id": "CtxU01iyYDaZ",
        "colab_type": "code",
        "colab": {
          "base_uri": "https://localhost:8080/",
          "height": 1000
        },
        "outputId": "72a3033d-23ce-4628-b1dc-e2c890f3e4da"
      },
      "source": [
        "filename = 'model.h1.24_jan_20'\n",
        "checkpoint= ModelCheckpoint(filename, monitor='val_loss',verbose=1, save_best_only=True, mode='min')\n",
        "\n",
        "# train model\n",
        "history = model.fit(trainX, trainY.reshape(trainY.shape[0],trainY.shape[1],1), epochs=30, batch_size=512, validation_split=0.2, callbacks=[checkpoint],verbose=1)"
      ],
      "execution_count": 45,
      "outputs": [
        {
          "output_type": "stream",
          "text": [
            "Epoch 1/30\n",
            "63/63 [==============================] - ETA: 0s - loss: 3.4031\n",
            "Epoch 00001: val_loss improved from inf to 2.84726, saving model to model.h1.24_jan_20\n",
            "WARNING:tensorflow:From /usr/local/lib/python3.6/dist-packages/tensorflow/python/training/tracking/tracking.py:111: Model.state_updates (from tensorflow.python.keras.engine.training) is deprecated and will be removed in a future version.\n",
            "Instructions for updating:\n",
            "This property should not be used in TensorFlow 2.0, as updates are applied automatically.\n",
            "WARNING:tensorflow:From /usr/local/lib/python3.6/dist-packages/tensorflow/python/training/tracking/tracking.py:111: Layer.updates (from tensorflow.python.keras.engine.base_layer) is deprecated and will be removed in a future version.\n",
            "Instructions for updating:\n",
            "This property should not be used in TensorFlow 2.0, as updates are applied automatically.\n",
            "INFO:tensorflow:Assets written to: model.h1.24_jan_20/assets\n",
            "63/63 [==============================] - 305s 5s/step - loss: 3.4031 - val_loss: 2.8473\n",
            "Epoch 2/30\n",
            "63/63 [==============================] - ETA: 0s - loss: 2.7767\n",
            "Epoch 00002: val_loss improved from 2.84726 to 2.73137, saving model to model.h1.24_jan_20\n",
            "INFO:tensorflow:Assets written to: model.h1.24_jan_20/assets\n",
            "63/63 [==============================] - 302s 5s/step - loss: 2.7767 - val_loss: 2.7314\n",
            "Epoch 3/30\n",
            "63/63 [==============================] - ETA: 0s - loss: 2.6235\n",
            "Epoch 00003: val_loss improved from 2.73137 to 2.57184, saving model to model.h1.24_jan_20\n",
            "INFO:tensorflow:Assets written to: model.h1.24_jan_20/assets\n",
            "63/63 [==============================] - 308s 5s/step - loss: 2.6235 - val_loss: 2.5718\n",
            "Epoch 4/30\n",
            "63/63 [==============================] - ETA: 0s - loss: 2.4489\n",
            "Epoch 00004: val_loss improved from 2.57184 to 2.44081, saving model to model.h1.24_jan_20\n",
            "INFO:tensorflow:Assets written to: model.h1.24_jan_20/assets\n",
            "63/63 [==============================] - 350s 6s/step - loss: 2.4489 - val_loss: 2.4408\n",
            "Epoch 5/30\n",
            "63/63 [==============================] - ETA: 0s - loss: 2.3125\n",
            "Epoch 00005: val_loss improved from 2.44081 to 2.35282, saving model to model.h1.24_jan_20\n",
            "INFO:tensorflow:Assets written to: model.h1.24_jan_20/assets\n",
            "63/63 [==============================] - 351s 6s/step - loss: 2.3125 - val_loss: 2.3528\n",
            "Epoch 6/30\n",
            "63/63 [==============================] - ETA: 0s - loss: 2.1880\n",
            "Epoch 00006: val_loss improved from 2.35282 to 2.24973, saving model to model.h1.24_jan_20\n",
            "INFO:tensorflow:Assets written to: model.h1.24_jan_20/assets\n",
            "63/63 [==============================] - 354s 6s/step - loss: 2.1880 - val_loss: 2.2497\n",
            "Epoch 7/30\n",
            "63/63 [==============================] - ETA: 0s - loss: 2.0743\n",
            "Epoch 00007: val_loss improved from 2.24973 to 2.16165, saving model to model.h1.24_jan_20\n",
            "INFO:tensorflow:Assets written to: model.h1.24_jan_20/assets\n",
            "63/63 [==============================] - 353s 6s/step - loss: 2.0743 - val_loss: 2.1616\n",
            "Epoch 8/30\n",
            "63/63 [==============================] - ETA: 0s - loss: 1.9641\n",
            "Epoch 00008: val_loss improved from 2.16165 to 2.08903, saving model to model.h1.24_jan_20\n",
            "INFO:tensorflow:Assets written to: model.h1.24_jan_20/assets\n",
            "63/63 [==============================] - 348s 6s/step - loss: 1.9641 - val_loss: 2.0890\n",
            "Epoch 9/30\n",
            "63/63 [==============================] - ETA: 0s - loss: 1.8599\n",
            "Epoch 00009: val_loss improved from 2.08903 to 2.00151, saving model to model.h1.24_jan_20\n",
            "INFO:tensorflow:Assets written to: model.h1.24_jan_20/assets\n",
            "63/63 [==============================] - 351s 6s/step - loss: 1.8599 - val_loss: 2.0015\n",
            "Epoch 10/30\n",
            "63/63 [==============================] - ETA: 0s - loss: 1.7564\n",
            "Epoch 00010: val_loss improved from 2.00151 to 1.93850, saving model to model.h1.24_jan_20\n",
            "INFO:tensorflow:Assets written to: model.h1.24_jan_20/assets\n",
            "63/63 [==============================] - 349s 6s/step - loss: 1.7564 - val_loss: 1.9385\n",
            "Epoch 11/30\n",
            "63/63 [==============================] - ETA: 0s - loss: 1.6590\n",
            "Epoch 00011: val_loss improved from 1.93850 to 1.87234, saving model to model.h1.24_jan_20\n",
            "INFO:tensorflow:Assets written to: model.h1.24_jan_20/assets\n",
            "63/63 [==============================] - 345s 5s/step - loss: 1.6590 - val_loss: 1.8723\n",
            "Epoch 12/30\n",
            "63/63 [==============================] - ETA: 0s - loss: 1.5642\n",
            "Epoch 00012: val_loss improved from 1.87234 to 1.79982, saving model to model.h1.24_jan_20\n",
            "INFO:tensorflow:Assets written to: model.h1.24_jan_20/assets\n",
            "63/63 [==============================] - 342s 5s/step - loss: 1.5642 - val_loss: 1.7998\n",
            "Epoch 13/30\n",
            "63/63 [==============================] - ETA: 0s - loss: 1.4749\n",
            "Epoch 00013: val_loss improved from 1.79982 to 1.75645, saving model to model.h1.24_jan_20\n",
            "INFO:tensorflow:Assets written to: model.h1.24_jan_20/assets\n",
            "63/63 [==============================] - 345s 5s/step - loss: 1.4749 - val_loss: 1.7565\n",
            "Epoch 14/30\n",
            "63/63 [==============================] - ETA: 0s - loss: 1.3894\n",
            "Epoch 00014: val_loss improved from 1.75645 to 1.71020, saving model to model.h1.24_jan_20\n",
            "INFO:tensorflow:Assets written to: model.h1.24_jan_20/assets\n",
            "63/63 [==============================] - 342s 5s/step - loss: 1.3894 - val_loss: 1.7102\n",
            "Epoch 15/30\n",
            "63/63 [==============================] - ETA: 0s - loss: 1.3083\n",
            "Epoch 00015: val_loss improved from 1.71020 to 1.67534, saving model to model.h1.24_jan_20\n",
            "INFO:tensorflow:Assets written to: model.h1.24_jan_20/assets\n",
            "63/63 [==============================] - 342s 5s/step - loss: 1.3083 - val_loss: 1.6753\n",
            "Epoch 16/30\n",
            "63/63 [==============================] - ETA: 0s - loss: 1.2300\n",
            "Epoch 00016: val_loss improved from 1.67534 to 1.60817, saving model to model.h1.24_jan_20\n",
            "INFO:tensorflow:Assets written to: model.h1.24_jan_20/assets\n",
            "63/63 [==============================] - 339s 5s/step - loss: 1.2300 - val_loss: 1.6082\n",
            "Epoch 17/30\n",
            "63/63 [==============================] - ETA: 0s - loss: 1.1545\n",
            "Epoch 00017: val_loss improved from 1.60817 to 1.57338, saving model to model.h1.24_jan_20\n",
            "INFO:tensorflow:Assets written to: model.h1.24_jan_20/assets\n",
            "63/63 [==============================] - 341s 5s/step - loss: 1.1545 - val_loss: 1.5734\n",
            "Epoch 18/30\n",
            "63/63 [==============================] - ETA: 0s - loss: 1.0849\n",
            "Epoch 00018: val_loss improved from 1.57338 to 1.53527, saving model to model.h1.24_jan_20\n",
            "INFO:tensorflow:Assets written to: model.h1.24_jan_20/assets\n",
            "63/63 [==============================] - 347s 6s/step - loss: 1.0849 - val_loss: 1.5353\n",
            "Epoch 19/30\n",
            "63/63 [==============================] - ETA: 0s - loss: 1.0137\n",
            "Epoch 00019: val_loss improved from 1.53527 to 1.50493, saving model to model.h1.24_jan_20\n",
            "INFO:tensorflow:Assets written to: model.h1.24_jan_20/assets\n",
            "63/63 [==============================] - 344s 5s/step - loss: 1.0137 - val_loss: 1.5049\n",
            "Epoch 20/30\n",
            "63/63 [==============================] - ETA: 0s - loss: 0.9504\n",
            "Epoch 00020: val_loss improved from 1.50493 to 1.46635, saving model to model.h1.24_jan_20\n",
            "INFO:tensorflow:Assets written to: model.h1.24_jan_20/assets\n",
            "63/63 [==============================] - 344s 5s/step - loss: 0.9504 - val_loss: 1.4663\n",
            "Epoch 21/30\n",
            "63/63 [==============================] - ETA: 0s - loss: 0.8875\n",
            "Epoch 00021: val_loss improved from 1.46635 to 1.43933, saving model to model.h1.24_jan_20\n",
            "INFO:tensorflow:Assets written to: model.h1.24_jan_20/assets\n",
            "63/63 [==============================] - 341s 5s/step - loss: 0.8875 - val_loss: 1.4393\n",
            "Epoch 22/30\n",
            "63/63 [==============================] - ETA: 0s - loss: 0.8284\n",
            "Epoch 00022: val_loss improved from 1.43933 to 1.41805, saving model to model.h1.24_jan_20\n",
            "INFO:tensorflow:Assets written to: model.h1.24_jan_20/assets\n",
            "63/63 [==============================] - 342s 5s/step - loss: 0.8284 - val_loss: 1.4180\n",
            "Epoch 23/30\n",
            "63/63 [==============================] - ETA: 0s - loss: 0.7700\n",
            "Epoch 00023: val_loss improved from 1.41805 to 1.39906, saving model to model.h1.24_jan_20\n",
            "INFO:tensorflow:Assets written to: model.h1.24_jan_20/assets\n",
            "63/63 [==============================] - 339s 5s/step - loss: 0.7700 - val_loss: 1.3991\n",
            "Epoch 24/30\n",
            "63/63 [==============================] - ETA: 0s - loss: 0.7162\n",
            "Epoch 00024: val_loss improved from 1.39906 to 1.39459, saving model to model.h1.24_jan_20\n",
            "INFO:tensorflow:Assets written to: model.h1.24_jan_20/assets\n",
            "63/63 [==============================] - 340s 5s/step - loss: 0.7162 - val_loss: 1.3946\n",
            "Epoch 25/30\n",
            "63/63 [==============================] - ETA: 0s - loss: 0.6652\n",
            "Epoch 00025: val_loss improved from 1.39459 to 1.36414, saving model to model.h1.24_jan_20\n",
            "INFO:tensorflow:Assets written to: model.h1.24_jan_20/assets\n",
            "63/63 [==============================] - 341s 5s/step - loss: 0.6652 - val_loss: 1.3641\n",
            "Epoch 26/30\n",
            "63/63 [==============================] - ETA: 0s - loss: 0.6152\n",
            "Epoch 00026: val_loss improved from 1.36414 to 1.34751, saving model to model.h1.24_jan_20\n",
            "INFO:tensorflow:Assets written to: model.h1.24_jan_20/assets\n",
            "63/63 [==============================] - 337s 5s/step - loss: 0.6152 - val_loss: 1.3475\n",
            "Epoch 27/30\n",
            "63/63 [==============================] - ETA: 0s - loss: 0.5704\n",
            "Epoch 00027: val_loss did not improve from 1.34751\n",
            "63/63 [==============================] - 323s 5s/step - loss: 0.5704 - val_loss: 1.3492\n",
            "Epoch 28/30\n",
            "63/63 [==============================] - ETA: 0s - loss: 0.5263\n",
            "Epoch 00028: val_loss improved from 1.34751 to 1.33651, saving model to model.h1.24_jan_20\n",
            "INFO:tensorflow:Assets written to: model.h1.24_jan_20/assets\n",
            "63/63 [==============================] - 336s 5s/step - loss: 0.5263 - val_loss: 1.3365\n",
            "Epoch 29/30\n",
            "63/63 [==============================] - ETA: 0s - loss: 0.4856\n",
            "Epoch 00029: val_loss improved from 1.33651 to 1.31386, saving model to model.h1.24_jan_20\n",
            "INFO:tensorflow:Assets written to: model.h1.24_jan_20/assets\n",
            "63/63 [==============================] - 337s 5s/step - loss: 0.4856 - val_loss: 1.3139\n",
            "Epoch 30/30\n",
            "63/63 [==============================] - ETA: 0s - loss: 0.4482\n",
            "Epoch 00030: val_loss improved from 1.31386 to 1.30741, saving model to model.h1.24_jan_20\n",
            "INFO:tensorflow:Assets written to: model.h1.24_jan_20/assets\n",
            "63/63 [==============================] - 338s 5s/step - loss: 0.4482 - val_loss: 1.3074\n"
          ],
          "name": "stdout"
        }
      ]
    },
    {
      "cell_type": "code",
      "metadata": {
        "id": "u7A1vZqvZlc2",
        "colab_type": "code",
        "colab": {
          "base_uri": "https://localhost:8080/",
          "height": 104
        },
        "outputId": "e761ddc7-84da-4999-e11d-7bae3fba8dd2"
      },
      "source": [
        "model = load_model('model.h1.24_jan_20')\n",
        "testX.shape\n",
        "preds = model.predict_classes(testX.reshape((testX.shape[0], testX.shape[1])))\n",
        "testX.shape"
      ],
      "execution_count": 46,
      "outputs": [
        {
          "output_type": "stream",
          "text": [
            "WARNING:tensorflow:From <ipython-input-46-db8acfe516ea>:3: Sequential.predict_classes (from tensorflow.python.keras.engine.sequential) is deprecated and will be removed after 2021-01-01.\n",
            "Instructions for updating:\n",
            "Please use instead:* `np.argmax(model.predict(x), axis=-1)`,   if your model does multi-class classification   (e.g. if it uses a `softmax` last-layer activation).* `(model.predict(x) > 0.5).astype(\"int32\")`,   if your model does binary classification   (e.g. if it uses a `sigmoid` last-layer activation).\n"
          ],
          "name": "stdout"
        },
        {
          "output_type": "execute_result",
          "data": {
            "text/plain": [
              "(10000, 8)"
            ]
          },
          "metadata": {
            "tags": []
          },
          "execution_count": 46
        }
      ]
    },
    {
      "cell_type": "markdown",
      "metadata": {
        "id": "_zDflVqHaRdA",
        "colab_type": "text"
      },
      "source": [
        "These prediction are sequence of integers. We need to convert these integers to their corresponding words."
      ]
    },
    {
      "cell_type": "code",
      "metadata": {
        "id": "oUIQemhlaKuT",
        "colab_type": "code",
        "colab": {}
      },
      "source": [
        "def get_word(n, tokenizer):\n",
        "      for word, index in tokenizer.word_index.items():\n",
        "          if index == n:\n",
        "              return word\n",
        "      return None "
      ],
      "execution_count": 74,
      "outputs": []
    },
    {
      "cell_type": "code",
      "metadata": {
        "id": "iYTsebHTb9oG",
        "colab_type": "code",
        "colab": {
          "base_uri": "https://localhost:8080/",
          "height": 34
        },
        "outputId": "a9bc0d93-e706-439e-93d9-7e0a312a369a"
      },
      "source": [
        "preds.shape"
      ],
      "execution_count": 49,
      "outputs": [
        {
          "output_type": "execute_result",
          "data": {
            "text/plain": [
              "(10000, 8)"
            ]
          },
          "metadata": {
            "tags": []
          },
          "execution_count": 49
        }
      ]
    },
    {
      "cell_type": "code",
      "metadata": {
        "id": "fz2v9KxfQFTo",
        "colab_type": "code",
        "colab": {
          "base_uri": "https://localhost:8080/",
          "height": 84
        },
        "outputId": "a4a0f159-a1a0-48c1-acfd-f78b4a42f988"
      },
      "source": [
        "for x in preds[:4]:\n",
        "  print(x)"
      ],
      "execution_count": 50,
      "outputs": [
        {
          "output_type": "stream",
          "text": [
            "[   2 1132  155    0    0    0    0    0]\n",
            "[  7 399  17   0   0   0   0   0]\n",
            "[  7   7 796   0   0   0   0   0]\n",
            "[18 20  8 30  0  0  0  0]\n"
          ],
          "name": "stdout"
        }
      ]
    },
    {
      "cell_type": "code",
      "metadata": {
        "id": "a5mk3wWFa9Tn",
        "colab_type": "code",
        "colab": {}
      },
      "source": [
        "preds_text = []\n",
        "for i in preds:\n",
        "       temp = []\n",
        "       for j in range(len(i)):\n",
        "            t = get_word(i[j], eng_tokenizer)\n",
        "            if j > 0:\n",
        "                if (t == get_word(i[j-1], eng_tokenizer)) or (t == None):\n",
        "                     temp.append('')\n",
        "                else:\n",
        "                     temp.append(t)\n",
        "            else:\n",
        "                   if (t == None):\n",
        "                          temp.append('')\n",
        "                   else:\n",
        "                          temp.append(t) \n",
        "\n",
        "       preds_text.append(' '.join(temp))"
      ],
      "execution_count": 80,
      "outputs": []
    },
    {
      "cell_type": "code",
      "metadata": {
        "id": "2Fj6Wc4Nb_nn",
        "colab_type": "code",
        "colab": {}
      },
      "source": [
        "pred_df = pd.DataFrame({'actual' : test[:,0], 'predicted' : preds_text})\n"
      ],
      "execution_count": 81,
      "outputs": []
    },
    {
      "cell_type": "code",
      "metadata": {
        "id": "fuAHAI4qVLmb",
        "colab_type": "code",
        "colab": {
          "base_uri": "https://localhost:8080/",
          "height": 491
        },
        "outputId": "fe041267-0b16-4915-e622-236d12f81cb8"
      },
      "source": [
        "pred_df.sample(15)"
      ],
      "execution_count": 86,
      "outputs": [
        {
          "output_type": "execute_result",
          "data": {
            "text/html": [
              "<div>\n",
              "<style scoped>\n",
              "    .dataframe tbody tr th:only-of-type {\n",
              "        vertical-align: middle;\n",
              "    }\n",
              "\n",
              "    .dataframe tbody tr th {\n",
              "        vertical-align: top;\n",
              "    }\n",
              "\n",
              "    .dataframe thead th {\n",
              "        text-align: right;\n",
              "    }\n",
              "</style>\n",
              "<table border=\"1\" class=\"dataframe\">\n",
              "  <thead>\n",
              "    <tr style=\"text-align: right;\">\n",
              "      <th></th>\n",
              "      <th>actual</th>\n",
              "      <th>predicted</th>\n",
              "    </tr>\n",
              "  </thead>\n",
              "  <tbody>\n",
              "    <tr>\n",
              "      <th>3093</th>\n",
              "      <td>have a beer with me</td>\n",
              "      <td>have a beer with me</td>\n",
              "    </tr>\n",
              "    <tr>\n",
              "      <th>7444</th>\n",
              "      <td>tom can walk</td>\n",
              "      <td>tom can run</td>\n",
              "    </tr>\n",
              "    <tr>\n",
              "      <th>2656</th>\n",
              "      <td>go up these stairs</td>\n",
              "      <td>take a up</td>\n",
              "    </tr>\n",
              "    <tr>\n",
              "      <th>6099</th>\n",
              "      <td>what a strange man</td>\n",
              "      <td>what a strange man</td>\n",
              "    </tr>\n",
              "    <tr>\n",
              "      <th>1438</th>\n",
              "      <td>i sell computers</td>\n",
              "      <td>im drive the</td>\n",
              "    </tr>\n",
              "    <tr>\n",
              "      <th>4337</th>\n",
              "      <td>dont play dead</td>\n",
              "      <td>dont  nonsense</td>\n",
              "    </tr>\n",
              "    <tr>\n",
              "      <th>5007</th>\n",
              "      <td>did tom forgive you</td>\n",
              "      <td>did tom forgive you</td>\n",
              "    </tr>\n",
              "    <tr>\n",
              "      <th>2319</th>\n",
              "      <td>we go tomorrow</td>\n",
              "      <td>were getting tomorrow</td>\n",
              "    </tr>\n",
              "    <tr>\n",
              "      <th>2523</th>\n",
              "      <td>can you program in c</td>\n",
              "      <td>can you keep on up</td>\n",
              "    </tr>\n",
              "    <tr>\n",
              "      <th>4464</th>\n",
              "      <td>its not my fault</td>\n",
              "      <td>thats not my fault</td>\n",
              "    </tr>\n",
              "    <tr>\n",
              "      <th>1587</th>\n",
              "      <td>hes an oceanographer</td>\n",
              "      <td>he is cranky</td>\n",
              "    </tr>\n",
              "    <tr>\n",
              "      <th>2579</th>\n",
              "      <td>i need them</td>\n",
              "      <td>i need them</td>\n",
              "    </tr>\n",
              "    <tr>\n",
              "      <th>9844</th>\n",
              "      <td>i was jealous</td>\n",
              "      <td>i was jealous</td>\n",
              "    </tr>\n",
              "    <tr>\n",
              "      <th>490</th>\n",
              "      <td>send it by airmail</td>\n",
              "      <td>send the by</td>\n",
              "    </tr>\n",
              "    <tr>\n",
              "      <th>1667</th>\n",
              "      <td>cut it in half</td>\n",
              "      <td>is it in</td>\n",
              "    </tr>\n",
              "  </tbody>\n",
              "</table>\n",
              "</div>"
            ],
            "text/plain": [
              "                    actual                   predicted\n",
              "3093   have a beer with me      have a beer with me   \n",
              "7444          tom can walk            tom can run     \n",
              "2656    go up these stairs              take a up     \n",
              "6099    what a strange man      what a strange man    \n",
              "1438      i sell computers           im drive the     \n",
              "4337        dont play dead         dont  nonsense     \n",
              "5007   did tom forgive you     did tom forgive you    \n",
              "2319        we go tomorrow  were getting tomorrow     \n",
              "2523  can you program in c       can you keep on up   \n",
              "4464      its not my fault      thats not my fault    \n",
              "1587  hes an oceanographer           he is cranky     \n",
              "2579           i need them            i need them     \n",
              "9844         i was jealous          i was jealous     \n",
              "490     send it by airmail            send the by     \n",
              "1667        cut it in half               is it in     "
            ]
          },
          "metadata": {
            "tags": []
          },
          "execution_count": 86
        }
      ]
    },
    {
      "cell_type": "markdown",
      "metadata": {
        "id": "Pe_ZnyF4zkP9",
        "colab_type": "text"
      },
      "source": [
        "Even with a very simple Seq2Seq model, the results are pretty encouraging. We can improve on this performance easily by using a more sophisticated encoder-decoder model on a larger dataset.\n",
        "\n",
        "It can further improved if we use a dataset with longer sentences."
      ]
    },
    {
      "cell_type": "code",
      "metadata": {
        "id": "lg3Z4IPEVvAv",
        "colab_type": "code",
        "colab": {}
      },
      "source": [
        ""
      ],
      "execution_count": null,
      "outputs": []
    }
  ]
}