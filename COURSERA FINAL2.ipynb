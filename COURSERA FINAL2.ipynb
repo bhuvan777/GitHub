{
 "cells": [
  {
   "cell_type": "markdown",
   "metadata": {},
   "source": [
    "# DATA "
   ]
  },
  {
   "cell_type": "markdown",
   "metadata": {},
   "source": [
    "Firstly , I will find all the neighborhoods of the city in which the person wants to start his/her retail business(This data can  easily be retrive from google website).\n",
    "After that I will also find all the required latitudes and longitudes of the neighborhoods of our selected city.\n",
    "When all this data will be in a dataframe then it can be processed into Fousquare Location Data to exactly locate our neighborhood, it can also locate all the venues of our neighborhood which can later be easily visualize, to form clusters etc . which can help us to lead to a conclusion.\n"
   ]
  },
  {
   "cell_type": "markdown",
   "metadata": {},
   "source": [
    "## USEFULNESS OF DATA"
   ]
  },
  {
   "cell_type": "markdown",
   "metadata": {},
   "source": [
    "Foursquare location data is very useful for locating different localities of a country, state , city or an area.\n",
    "It contains all the required information about all the neighborhoods of a place and also of all the venues those neighborhoods have nearby. As Foursquare Location Data gets updated everyday unlike other location data servers , so it provides us with more proper result as compare to other location data servers.\n",
    "As our dataframe will  contain the Borough's neighborhood and it latitude and longitude data which when accessed into Foursquare Location Data can help us locate all the venues and also the neighborhood which has the highest number of venues around it . The locality which has the most number of venues must atrract more crowd and that place could be considered as one of the best place to open a retail store , as we need to find the best place to open a retail store and benefit our customer(who came to us for helping him in locating the best location for his business )."
   ]
  },
  {
   "cell_type": "code",
   "execution_count": null,
   "metadata": {},
   "outputs": [],
   "source": []
  }
 ],
 "metadata": {
  "kernelspec": {
   "display_name": "Python 3.5",
   "language": "python",
   "name": "python3"
  },
  "language_info": {
   "codemirror_mode": {
    "name": "ipython",
    "version": 3
   },
   "file_extension": ".py",
   "mimetype": "text/x-python",
   "name": "python",
   "nbconvert_exporter": "python",
   "pygments_lexer": "ipython3",
   "version": "3.5.5"
  }
 },
 "nbformat": 4,
 "nbformat_minor": 1
}
