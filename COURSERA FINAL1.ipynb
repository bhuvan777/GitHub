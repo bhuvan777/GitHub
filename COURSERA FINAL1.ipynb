{
 "cells": [
  {
   "cell_type": "markdown",
   "metadata": {
    "collapsed": true
   },
   "source": [
    "# PROBLEM TO SOLVE"
   ]
  },
  {
   "cell_type": "markdown",
   "metadata": {},
   "source": [
    "Nowadays many people want to start a new business or company of their own in order to benifit themselves from it.\n",
    "Starting a new business or a new company is not an easy task as it requires the whole understandings of the consumer needs , requirements , import or export of materials etc.\n",
    "When any new foundation is set up the major problem which the person face is to start from where or which can be the perfect LOCATOION where their business(in our case retail shop) can be situated ,so as to be beneficial for both the consumer(as a buyer of the product) and the retailer(owner of the shop).The selection of retail storelications is one of the most significant decisions in retail marketing, because in store based retailling, good locations are key elements for attracting customers to the outlets and sometimes can even compensate for a mediocre retail stratergy mix. A good location therefore can lead to strong competitive advantages , because location is considered one of the retail marketing mix that is \"unique\" and thus cannot be imitated by competitors."
   ]
  },
  {
   "cell_type": "markdown",
   "metadata": {},
   "source": [
    "# BACKGROUND"
   ]
  },
  {
   "cell_type": "markdown",
   "metadata": {},
   "source": [
    "Retail location is considered to be one of the most important element in retail marketing stratergy , because it is a long term decision assosiated with a long term capital commitment.\n",
    "Location decisions are very complex, due to the large number of factors that have to be considered , and costs associated with , for example, the opening of new stores, can be very high. Site selection is therefore a ~long term~ decision that implies long term capital commitment. Once a retail site has been chosen, there is only little flexibility , because this decision cannot change easily without high losses. Because of its fixed nature , location cannot be changed in short term , contrary to other elements of the retail marketing mix such as prices, customer service, the product assortment or advertising. These latter factors can be altered if the environment (eg. consumer behaviour , competition) changes. "
   ]
  },
  {
   "cell_type": "code",
   "execution_count": null,
   "metadata": {},
   "outputs": [],
   "source": []
  }
 ],
 "metadata": {
  "kernelspec": {
   "display_name": "Python 3.5",
   "language": "python",
   "name": "python3"
  },
  "language_info": {
   "codemirror_mode": {
    "name": "ipython",
    "version": 3
   },
   "file_extension": ".py",
   "mimetype": "text/x-python",
   "name": "python",
   "nbconvert_exporter": "python",
   "pygments_lexer": "ipython3",
   "version": "3.5.5"
  }
 },
 "nbformat": 4,
 "nbformat_minor": 1
}
